{
 "cells": [
  {
   "cell_type": "markdown",
   "metadata": {},
   "source": [
    "# 確率ロボティクス最終課題\n",
    "タイルワールドにおいて，エージェントの動きを強化学習のアルゴリズムを用いて生成する．\n",
    "課題の詳細は[ここ](https://lab.ueda.tech/?page=prob_robot_2019)を参照のこと\n",
    "\n",
    "### Defining the Agent"
   ]
  },
  {
   "cell_type": "code",
   "execution_count": 1,
   "metadata": {},
   "outputs": [],
   "source": [
    "class Agent:\n",
    "    def __init__(self):\n",
    "        self.actions = [\"up\", \"down\", \"left\", \"right\"]\n",
    "        self.pos = (0,0)\n",
    "\n",
    "agent = Agent()"
   ]
  },
  {
   "cell_type": "markdown",
   "metadata": {},
   "source": [
    "### Defining the environment\n",
    "Configuring the tile world"
   ]
  },
  {
   "cell_type": "code",
   "execution_count": 13,
   "metadata": {},
   "outputs": [],
   "source": [
    "size = 10\n",
    "\n",
    "class State:\n",
    "    def __init__(self,actions):\n",
    "        self.Q = {}\n",
    "        for a in actions:\n",
    "            self.Q[a] = 0.0\n",
    "        self.best_action = \"up\"\n",
    "        self.goal = False\n",
    "        \n",
    "    def set_goal(self,actions):\n",
    "        for a in actions:\n",
    "            self.Q[a] = 0.0\n",
    "        self.goal = True\n",
    "\n",
    "states = [[State(agent.actions) for i in range(size)] for j in range(size)]\n",
    "states[size-1][size-1].set_goal(agent.actions)"
   ]
  },
  {
   "cell_type": "markdown",
   "metadata": {},
   "source": [
    "### Plot\n",
    "The section for drawing"
   ]
  },
  {
   "cell_type": "code",
   "execution_count": 20,
   "metadata": {},
   "outputs": [
    {
     "data": {
      "image/png": "[encoded data removed]",
      "text/plain": [
       "<Figure size 432x288 with 1 Axes>"
      ]
     },
     "metadata": {
      "needs_background": "light"
     },
     "output_type": "display_data"
    }
   ],
   "source": [
    "import matplotlib.pyplot as plt\n",
    "import matplotlib.patches as patches\n",
    "textsize = 5\n",
    "\n",
    "def draw(mark_pos):\n",
    "    fig, ax = plt.subplots()\n",
    "    values = [[states[i][j].Q[states[i][j].best_action] for i in range(size)] for j in range(size)]\n",
    "    mp = ax.pcolor(values, cmap = plt.cm.YlOrRd, vmin = 0, vmax = 8)\n",
    "    ax.grid()\n",
    "    ax.set_aspect(1)\n",
    "    ax.set_xticks(range(size), minor = False)\n",
    "    ax.set_yticks(range(size), minor = False)\n",
    "    \n",
    "    for x in range(len(values)):\n",
    "        for y in range(len(values[0])):\n",
    "            s = states[x][y]\n",
    "            plt.text(x+0.5, y+0.5, int(1000*s.Q[s.best_action])/1000, ha = 'center', va = 'center', size = textsize)\n",
    "            if states[x][y].goal:\n",
    "                plt.text(x+0.5, y+0.75, \"G\", ha = 'center', va = 'center', size = textsize)\n",
    "    \n",
    "    plt.text(agent.pos[0]+0.5, agent.pos[1]+0.25, \"start\", ha = 'center', va = 'center', size = textsize)\n",
    "\n",
    "    if mark_pos == \"all\":\n",
    "        for x in range(size):\n",
    "            for y in range(size):\n",
    "                if states[x][y].goal: continue\n",
    "                plt.text(x+0.5, y+0.25, states[x][y].best_action, ha = 'center', va = 'center', size = textsize)\n",
    "    elif mark_pos != None:\n",
    "        s = states[mark_pos[0]][mark_pos[1]]\n",
    "        plt.text(mark_pos[0]+0.5, mark_pos[1]+0.25, s.best_action, ha = 'center', va = 'center', size = textsize)\n",
    "\n",
    "    plt.show()\n",
    "    fig.clear()\n",
    "\n",
    "draw(None)"
   ]
  },
  {
   "cell_type": "markdown",
   "metadata": {},
   "source": [
    "#### State Transitions"
   ]
  },
  {
   "cell_type": "code",
   "execution_count": 21,
   "metadata": {},
   "outputs": [],
   "source": [
    "import random\n",
    "\n",
    "def state_transition(s_pos,a):\n",
    "    if random.uniform(0,1) < 0.1: #Return the same position at a 10% chance\n",
    "        return s_pos\n",
    "\n",
    "    x, y = s_pos\n",
    "    if a == \"up\": y += 1\n",
    "    elif a == \"down\": y -= 1\n",
    "    elif a == \"right\": x += 1\n",
    "    elif a == \"left\": x -= 1\n",
    "    \n",
    "    if x < 0: x = 0\n",
    "    elif x >= size: x = size-1\n",
    "    elif y < 0: y = 0\n",
    "    elif y >= size: y = size-1\n",
    "    \n",
    "    return(x,y)"
   ]
  },
  {
   "cell_type": "markdown",
   "metadata": {},
   "source": [
    "#### Policy (ε-greedy)"
   ]
  },
  {
   "cell_type": "code",
   "execution_count": 22,
   "metadata": {},
   "outputs": [],
   "source": [
    "def e_greedy(s):\n",
    "    if random.uniform(0,1) < 0.1: #Choose something random ata 10% chance\n",
    "        return random.choince(agent.actions)\n",
    "\n",
    "    else:\n",
    "        best_a = None\n",
    "        best_q = 1000000000\n",
    "        for a in s.Q:\n",
    "            if best_q > s.Q[a]:\n",
    "                best_q = s.Q[a]\n",
    "                best_a = a\n",
    "        s.best_action = best_a\n",
    "        return best_a"
   ]
  },
  {
   "cell_type": "code",
   "execution_count": null,
   "metadata": {},
   "outputs": [],
   "source": []
  }
 ],
 "metadata": {
  "kernelspec": {
   "display_name": "Python 3",
   "language": "python",
   "name": "python3"
  },
  "language_info": {
   "codemirror_mode": {
    "name": "ipython",
    "version": 3
   },
   "file_extension": ".py",
   "mimetype": "text/x-python",
   "name": "python",
   "nbconvert_exporter": "python",
   "pygments_lexer": "ipython3",
   "version": "3.6.9"
  }
 },
 "nbformat": 4,
 "nbformat_minor": 2
}
