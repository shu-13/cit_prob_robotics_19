{
 "cells": [
  {
   "cell_type": "markdown",
   "metadata": {},
   "source": [
    "# 確率ロボティクス最終課題\n",
    "タイルワールドにおいて，エージェントの動きを強化学習のアルゴリズムを用いて生成する．\n",
    "課題の詳細は[ここ](https://lab.ueda.tech/?page=prob_robot_2019)を参照のこと\n",
    "\n",
    "### Defining the Agent"
   ]
  },
  {
   "cell_type": "code",
   "execution_count": 1,
   "metadata": {},
   "outputs": [],
   "source": [
    "class Agent:\n",
    "    def __init__(self):\n",
    "        # U is up, D is down, L is left, R is right\n",
    "        # u_r is upright, u_l is upleft\n",
    "        # d_r is downright, d_l is downleft\n",
    "        self.actions = [\"U\", \"D\", \"L\", \"R\", \"u_r\", \"u_l\", \"d_r\", \"d_l\"]\n",
    "        self.pos = (0,0)\n",
    "\n",
    "agent = Agent()"
   ]
  },
  {
   "cell_type": "markdown",
   "metadata": {},
   "source": [
    "### Defining the environment\n",
    "Configuring the tile world"
   ]
  },
  {
   "cell_type": "code",
   "execution_count": 2,
   "metadata": {},
   "outputs": [],
   "source": [
    "size = 10\n",
    "\n",
    "class State:\n",
    "    def __init__(self,actions):\n",
    "        self.Q = {}\n",
    "        for a in actions:\n",
    "            self.Q[a] = 0.0\n",
    "        self.best_action = \"u_r\"\n",
    "        self.goal = False\n",
    "        \n",
    "    def set_goal(self,actions):\n",
    "        for a in actions:\n",
    "            self.Q[a] = 0.0\n",
    "        self.goal = True\n",
    "\n",
    "states = [[State(agent.actions) for i in range(size)] for j in range(size)]\n",
    "states[size-1][size-1].set_goal(agent.actions)"
   ]
  },
  {
   "cell_type": "markdown",
   "metadata": {},
   "source": [
    "### Plot\n",
    "The section for drawing"
   ]
  },
  {
   "cell_type": "code",
   "execution_count": 4,
   "metadata": {},
   "outputs": [
    {
     "data": {
      "image/png": "[encoded data removed]",
      "text/plain": [
       "<Figure size 432x288 with 1 Axes>"
      ]
     },
     "metadata": {
      "needs_background": "light"
     },
     "output_type": "display_data"
    }
   ],
   "source": [
    "import matplotlib.pyplot as plt\n",
    "import matplotlib.patches as patches\n",
    "textsize = 5\n",
    "\n",
    "def draw(mark_pos):\n",
    "    fig, ax = plt.subplots()\n",
    "    values = [[states[i][j].Q[states[i][j].best_action] for i in range(size)] for j in range(size)]\n",
    "    mp = ax.pcolor(values, cmap = plt.cm.YlOrRd, vmin = 0, vmax = 8)\n",
    "    ax.grid()\n",
    "    ax.set_aspect(1)\n",
    "    ax.set_xticks(range(size+1), minor = False)\n",
    "    ax.set_yticks(range(size+1), minor = False)\n",
    "    \n",
    "    for x in range(len(values)):\n",
    "        for y in range(len(values[0])):\n",
    "            s = states[x][y]\n",
    "            plt.text(x+0.5, y+0.5, int(1000*s.Q[s.best_action])/1000, ha = 'center', va = 'center', size = textsize)\n",
    "            if states[x][y].goal:\n",
    "                plt.text(x+0.5, y+0.75, \"G\", ha = 'center', va = 'center', size = textsize)\n",
    "    \n",
    "    plt.text(agent.pos[0]+0.5, agent.pos[1]+0.25, \"AGENT\", ha = 'center', va = 'center', size = textsize)\n",
    "\n",
    "    if mark_pos == \"all\":\n",
    "        for x in range(size):\n",
    "            for y in range(size):\n",
    "                if states[x][y].goal: continue\n",
    "                plt.text(x+0.5, y+0.25, states[x][y].best_action, ha = 'center', va = 'center', size = textsize)\n",
    "    elif mark_pos != None:\n",
    "        s = states[mark_pos[0]][mark_pos[1]]\n",
    "        plt.text(mark_pos[0]+0.5, mark_pos[1]+0.25, s.best_action, ha = 'center', va = 'center', size = textsize)\n",
    "\n",
    "    plt.show()\n",
    "    fig.clear()\n",
    "\n",
    "draw(None)"
   ]
  },
  {
   "cell_type": "markdown",
   "metadata": {},
   "source": [
    "#### State Transitions"
   ]
  },
  {
   "cell_type": "code",
   "execution_count": 5,
   "metadata": {},
   "outputs": [],
   "source": [
    "import random\n",
    "\n",
    "def state_transition(s_pos,a):\n",
    "    if random.uniform(0,1) < 0.1: #Return the same position at a 10% chance\n",
    "        return s_pos\n",
    "\n",
    "    x, y = s_pos\n",
    "    if a == \"U\": y += 1\n",
    "    elif a == \"D\": y -= 1\n",
    "    elif a == \"R\": x += 1\n",
    "    elif a == \"L\": x -= 1\n",
    "    elif a == \"u_r\": \n",
    "        if x < size-1 and y < size-1:\n",
    "            x += 1\n",
    "            y += 1\n",
    "    elif a == \"u_l\":\n",
    "        if x > 0 and y < size-1:\n",
    "            x -= 1\n",
    "            y += 1\n",
    "    elif a == \"d_r\":\n",
    "        if x < size-1 and y > 0:\n",
    "            x += 1\n",
    "            y -= 1\n",
    "    elif a == \"d_l\":\n",
    "        if x > 0 and y > 0:\n",
    "            x -= 1\n",
    "            y -= 1\n",
    "    \n",
    "    if x < 0: x = 0\n",
    "    elif x >= size: x = size-1\n",
    "    elif y < 0: y = 0\n",
    "    elif y >= size: y = size-1\n",
    "    \n",
    "    return(x,y)"
   ]
  },
  {
   "cell_type": "markdown",
   "metadata": {},
   "source": [
    "#### Policy (ε-greedy)"
   ]
  },
  {
   "cell_type": "code",
   "execution_count": 6,
   "metadata": {},
   "outputs": [],
   "source": [
    "def e_greedy(s):\n",
    "    if random.uniform(0,1) < 0.1: #Choose something random ata 10% chance\n",
    "        return random.choice(agent.actions)\n",
    "\n",
    "    else:\n",
    "        best_a = None\n",
    "        best_q = 1000000000\n",
    "        for a in s.Q:\n",
    "            if best_q > s.Q[a]:\n",
    "                best_q = s.Q[a]\n",
    "                best_a = a\n",
    "        s.best_action = best_a\n",
    "        return best_a"
   ]
  },
  {
   "cell_type": "markdown",
   "metadata": {},
   "source": [
    "#### Processing step by step"
   ]
  },
  {
   "cell_type": "code",
   "execution_count": 7,
   "metadata": {},
   "outputs": [
    {
     "ename": "UnboundLocalError",
     "evalue": "local variable 's_best' referenced before assignment",
     "output_type": "error",
     "traceback": [
      "\u001b[0;31m---------------------------------------------------------------------------\u001b[0m",
      "\u001b[0;31mUnboundLocalError\u001b[0m                         Traceback (most recent call last)",
      "\u001b[0;32m<ipython-input-7-60cdf182fc34>\u001b[0m in \u001b[0;36m<module>\u001b[0;34m\u001b[0m\n\u001b[1;32m     36\u001b[0m \u001b[0;34m\u001b[0m\u001b[0m\n\u001b[1;32m     37\u001b[0m \u001b[0;32mfor\u001b[0m \u001b[0mi\u001b[0m \u001b[0;32min\u001b[0m \u001b[0mrange\u001b[0m\u001b[0;34m(\u001b[0m\u001b[0;36m100\u001b[0m\u001b[0;34m)\u001b[0m\u001b[0;34m:\u001b[0m\u001b[0;34m\u001b[0m\u001b[0;34m\u001b[0m\u001b[0m\n\u001b[0;32m---> 38\u001b[0;31m     \u001b[0mone_trial_q\u001b[0m\u001b[0;34m(\u001b[0m\u001b[0;34m)\u001b[0m\u001b[0;34m\u001b[0m\u001b[0;34m\u001b[0m\u001b[0m\n\u001b[0m\u001b[1;32m     39\u001b[0m     \u001b[0mdraw\u001b[0m\u001b[0;34m(\u001b[0m\u001b[0;34m\"all\"\u001b[0m\u001b[0;34m)\u001b[0m\u001b[0;34m\u001b[0m\u001b[0;34m\u001b[0m\u001b[0m\n",
      "\u001b[0;32m<ipython-input-7-60cdf182fc34>\u001b[0m in \u001b[0;36mone_trial_q\u001b[0;34m()\u001b[0m\n\u001b[1;32m     28\u001b[0m \u001b[0;34m\u001b[0m\u001b[0m\n\u001b[1;32m     29\u001b[0m     \u001b[0;32mwhile\u001b[0m \u001b[0;32mTrue\u001b[0m\u001b[0;34m:\u001b[0m\u001b[0;34m\u001b[0m\u001b[0;34m\u001b[0m\u001b[0m\n\u001b[0;32m---> 30\u001b[0;31m         \u001b[0ms_best\u001b[0m\u001b[0;34m,\u001b[0m \u001b[0ma_best\u001b[0m\u001b[0;34m,\u001b[0m \u001b[0mq\u001b[0m \u001b[0;34m=\u001b[0m \u001b[0mq_\u001b[0m\u001b[0;34m(\u001b[0m\u001b[0magent\u001b[0m\u001b[0;34m.\u001b[0m\u001b[0mpos\u001b[0m\u001b[0;34m,\u001b[0m \u001b[0ma\u001b[0m\u001b[0;34m)\u001b[0m\u001b[0;34m\u001b[0m\u001b[0;34m\u001b[0m\u001b[0m\n\u001b[0m\u001b[1;32m     31\u001b[0m         \u001b[0mstates\u001b[0m\u001b[0;34m[\u001b[0m\u001b[0magent\u001b[0m\u001b[0;34m.\u001b[0m\u001b[0mpos\u001b[0m\u001b[0;34m[\u001b[0m\u001b[0;36m0\u001b[0m\u001b[0;34m]\u001b[0m\u001b[0;34m]\u001b[0m\u001b[0;34m[\u001b[0m\u001b[0magent\u001b[0m\u001b[0;34m.\u001b[0m\u001b[0mpos\u001b[0m\u001b[0;34m[\u001b[0m\u001b[0;36m1\u001b[0m\u001b[0;34m]\u001b[0m\u001b[0;34m]\u001b[0m\u001b[0;34m.\u001b[0m\u001b[0mQ\u001b[0m\u001b[0;34m[\u001b[0m\u001b[0ma\u001b[0m\u001b[0;34m]\u001b[0m \u001b[0;34m=\u001b[0m \u001b[0mq\u001b[0m\u001b[0;34m\u001b[0m\u001b[0;34m\u001b[0m\u001b[0m\n\u001b[1;32m     32\u001b[0m         \u001b[0magent\u001b[0m\u001b[0;34m.\u001b[0m\u001b[0mpos\u001b[0m \u001b[0;34m=\u001b[0m \u001b[0ms_best\u001b[0m\u001b[0;34m\u001b[0m\u001b[0;34m\u001b[0m\u001b[0m\n",
      "\u001b[0;32m<ipython-input-7-60cdf182fc34>\u001b[0m in \u001b[0;36mq_\u001b[0;34m(s_pos, a)\u001b[0m\n\u001b[1;32m     15\u001b[0m         \u001b[0;32melif\u001b[0m \u001b[0ms_next\u001b[0m\u001b[0;34m.\u001b[0m\u001b[0mQ\u001b[0m\u001b[0;34m[\u001b[0m\u001b[0ma_next\u001b[0m\u001b[0;34m]\u001b[0m \u001b[0;34m<=\u001b[0m \u001b[0mtmp\u001b[0m\u001b[0;34m:\u001b[0m \u001b[0mtmp\u001b[0m \u001b[0;34m=\u001b[0m \u001b[0ms_next\u001b[0m\u001b[0;34m.\u001b[0m\u001b[0mQ\u001b[0m\u001b[0;34m[\u001b[0m\u001b[0ma_next\u001b[0m\u001b[0;34m]\u001b[0m\u001b[0;34m\u001b[0m\u001b[0;34m\u001b[0m\u001b[0m\n\u001b[1;32m     16\u001b[0m \u001b[0;34m\u001b[0m\u001b[0m\n\u001b[0;32m---> 17\u001b[0;31m     \u001b[0mq\u001b[0m \u001b[0;34m=\u001b[0m \u001b[0;34m(\u001b[0m\u001b[0;36m1.0\u001b[0m \u001b[0;34m-\u001b[0m \u001b[0malpha\u001b[0m\u001b[0;34m)\u001b[0m \u001b[0;34m*\u001b[0m \u001b[0ms\u001b[0m\u001b[0;34m.\u001b[0m\u001b[0mQ\u001b[0m\u001b[0;34m[\u001b[0m\u001b[0ma\u001b[0m\u001b[0;34m]\u001b[0m \u001b[0;34m+\u001b[0m \u001b[0malpha\u001b[0m \u001b[0;34m*\u001b[0m \u001b[0;34m(\u001b[0m\u001b[0;36m1.0\u001b[0m \u001b[0;34m+\u001b[0m \u001b[0mgamma\u001b[0m \u001b[0;34m*\u001b[0m \u001b[0ms_best\u001b[0m\u001b[0;34m.\u001b[0m\u001b[0mQ\u001b[0m\u001b[0;34m[\u001b[0m\u001b[0ma_best\u001b[0m\u001b[0;34m]\u001b[0m\u001b[0;34m)\u001b[0m\u001b[0;34m\u001b[0m\u001b[0;34m\u001b[0m\u001b[0m\n\u001b[0m\u001b[1;32m     18\u001b[0m \u001b[0;34m\u001b[0m\u001b[0m\n\u001b[1;32m     19\u001b[0m     \u001b[0mprint\u001b[0m\u001b[0;34m(\u001b[0m\u001b[0;34m\"s:\"\u001b[0m \u001b[0;34m+\u001b[0m \u001b[0mstr\u001b[0m\u001b[0;34m(\u001b[0m\u001b[0ms_pos\u001b[0m\u001b[0;34m)\u001b[0m \u001b[0;34m+\u001b[0m \u001b[0;34m\" a:\"\u001b[0m \u001b[0;34m+\u001b[0m \u001b[0mstr\u001b[0m\u001b[0;34m(\u001b[0m\u001b[0ms_best_pos\u001b[0m\u001b[0;34m)\u001b[0m \u001b[0;34m+\u001b[0m \u001b[0;34m\" a':\"\u001b[0m \u001b[0;34m+\u001b[0m \u001b[0ma_best\u001b[0m\u001b[0;34m)\u001b[0m\u001b[0;34m\u001b[0m\u001b[0;34m\u001b[0m\u001b[0m\n",
      "\u001b[0;31mUnboundLocalError\u001b[0m: local variable 's_best' referenced before assignment"
     ]
    }
   ],
   "source": [
    "alpha = 0.5\n",
    "gamma = 1.0\n",
    "\n",
    "def q_(s_pos,a):\n",
    "    s = states[s_pos[0]][s_pos[1]]\n",
    "    tmp = s.Q[a]\n",
    "    for i in range(10):\n",
    "        s_next_pos = state_transition(s_pos,a)\n",
    "        s_next = states[s_next_pos[0]][s_next_pos[1]]\n",
    "        a_next = e_greedy(s_next)\n",
    "        if s_next.Q[a_next] > tmp:\n",
    "            s_best = s_next\n",
    "            s_best_pos = s_next_pos\n",
    "            a_best = a_next\n",
    "        elif s_next.Q[a_next] <= tmp: tmp = s_next.Q[a_next]\n",
    "    \n",
    "    q = (1.0 - alpha) * s.Q[a] + alpha * (1.0 + gamma * s_best.Q[a_best])\n",
    "    \n",
    "    print(\"s:\" + str(s_pos) + \" a:\" + str(s_best_pos) + \" a':\" + a_best)\n",
    "    print(\"-----\")\n",
    "    return s_best_pos, a_best, q\n",
    "\n",
    "def one_trial_q():\n",
    "    agent.pos = (random.randrange(size),random.randrange(size))\n",
    "    a = e_greedy(states[agent.pos[0]][agent.pos[1]])\n",
    "    if states[agent.pos[0]][agent.pos[1]].goal:\n",
    "        return\n",
    "    \n",
    "    while True:\n",
    "        s_best, a_best, q = q_(agent.pos, a)\n",
    "        states[agent.pos[0]][agent.pos[1]].Q[a] = q\n",
    "        agent.pos = s_best\n",
    "        a = a_best\n",
    "        if states[agent.pos[0]][agent.pos[1]].goal:\n",
    "            break\n",
    "\n",
    "for i in range(100):\n",
    "    one_trial_q()\n",
    "    draw(\"all\")"
   ]
  },
  {
   "cell_type": "code",
   "execution_count": null,
   "metadata": {},
   "outputs": [],
   "source": []
  }
 ],
 "metadata": {
  "kernelspec": {
   "display_name": "Python 3",
   "language": "python",
   "name": "python3"
  },
  "language_info": {
   "codemirror_mode": {
    "name": "ipython",
    "version": 3
   },
   "file_extension": ".py",
   "mimetype": "text/x-python",
   "name": "python",
   "nbconvert_exporter": "python",
   "pygments_lexer": "ipython3",
   "version": "3.6.9"
  }
 },
 "nbformat": 4,
 "nbformat_minor": 2
}
